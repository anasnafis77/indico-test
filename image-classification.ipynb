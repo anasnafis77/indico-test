{
 "cells": [
  {
   "cell_type": "code",
   "execution_count": null,
   "metadata": {},
   "outputs": [],
   "source": [
    "# download data from kaggle\n",
    "!curl -L -o image-classification.zip https://www.kaggle.com/api/v1/datasets/download/duttadebadri/image-classification\n",
    "# unzip downloaded data\n",
    "!unzip image-classification.zip -d images"
   ]
  },
  {
   "cell_type": "code",
   "execution_count": null,
   "metadata": {},
   "outputs": [],
   "source": [
    "import glob\n",
    "import tensorflow as tf\n",
    "from tensorflow.keras import layers, models\n",
    "from tensorflow.keras.preprocessing.image import ImageDataGenerator\n",
    "import os\n",
    "\n",
    "image_files = glob.glob(\"images/*/*jpg\")\n",
    "architecure_files = glob.glob(\"images/architecure/*jpg\")\n",
    "art_culture_files = glob.glob(\"images/art and culture/*jpg\")\n",
    "food_drinks_files = glob.glob(\"images/food and d rinks/*jpg\")\n",
    "travel_adventure_files = glob.glob(\"images/travel and  adventure/*jpg\")\n",
    "\n",
    "print(\"number of architecure images:\", len(architecure_files))  \n",
    "print(\"number of art_culture images:\", len(art_culture_files))\n",
    "print(\"number of food_drinks_ images:\", len(food_drinks_files))\n",
    "print(\"number of travel_adventure images:\", len(travel_adventure_files))\n",
    "print(\"number of images:\", len(image_files))"
   ]
  },
  {
   "cell_type": "code",
   "execution_count": 20,
   "metadata": {},
   "outputs": [],
   "source": [
    "test_ratio = 0.2\n",
    "train_arch, test_arch = architecure_files[:int(len(architecure_files)*(1-test_ratio))], architecure_files[-int(len(architecure_files)*(test_ratio)):]\n",
    "train_art, test_art = art_culture_files[:int(len(art_culture_files)*(1-test_ratio))], art_culture_files[-int(len(art_culture_files)*(test_ratio)):]\n",
    "train_food, test_food = food_drinks_files[:int(len(food_drinks_files)*(1-test_ratio))], food_drinks_files[-int(len(food_drinks_files)*(test_ratio)):]\n",
    "train_travel, test_travel = travel_adventure_files[:int(len(travel_adventure_files)*(1-test_ratio))], travel_adventure_files[-int(len(travel_adventure_files)*(test_ratio)):]\n"
   ]
  },
  {
   "cell_type": "code",
   "execution_count": 35,
   "metadata": {},
   "outputs": [],
   "source": [
    "for train_files in [train_arch, train_art, train_food, train_travel]:\n",
    "    for file in train_files:\n",
    "        # Get folder name from file path\n",
    "        folder_name = os.path.basename(os.path.dirname(file))\n",
    "        path = os.path.join('images', 'train', folder_name, file.split(\"\\\\\")[-1])\n",
    "        # Create train directory and subdirectory if not exists\n",
    "        os.makedirs(path, exist_ok=True)\n",
    "        \n",
    "        # # Copy file to train directory\n",
    "        os.system(f'copy \"{file}\" \"{path}\"')\n",
    "\n",
    "for test_files in [test_arch, test_art, test_food, test_travel]:\n",
    "    for file in test_files:\n",
    "        # Get folder name from file path\n",
    "        folder_name = os.path.basename(os.path.dirname(file))\n",
    "        path = os.path.join('images', 'test', folder_name, file.split(\"\\\\\")[-1])\n",
    "        # Create train directory and subdirectory if not exists\n",
    "        os.makedirs(path, exist_ok=True)\n",
    "        \n",
    "        # # Copy file to train directory\n",
    "        os.system(f'copy \"{file}\" \"{path}\"')"
   ]
  },
  {
   "cell_type": "code",
   "execution_count": null,
   "metadata": {},
   "outputs": [],
   "source": [
    "\n",
    "\n",
    "model = models.Sequential([\n",
    "    layers.Conv2D(32, (3, 3), activation='relu', input_shape=(150, 150, 3)),\n",
    "    layers.MaxPooling2D((2, 2)),\n",
    "    \n",
    "    layers.Conv2D(64, (3, 3), activation='relu'),\n",
    "    layers.MaxPooling2D((2, 2)),\n",
    "    \n",
    "    layers.Conv2D(64, (3, 3), activation='relu'),\n",
    "    layers.MaxPooling2D((2, 2)),\n",
    "    \n",
    "    layers.Flatten(),\n",
    "    \n",
    "    layers.Dense(64, activation='relu'),\n",
    "    layers.Dense(4, activation='softmax')  # 2 kelas output, sesuaikan dengan kebutuhan\n",
    "])\n",
    "\n",
    "model.compile(optimizer='adam',\n",
    "              loss='categorical_crossentropy',\n",
    "              metrics=['accuracy'])\n",
    "\n",
    "\n",
    "model.summary()\n",
    "\n",
    "\n",
    "train_datagen = ImageDataGenerator(\n",
    "    rescale=1./255,\n",
    "    rotation_range=40,\n",
    "    width_shift_range=0.2,\n",
    "    height_shift_range=0.2,\n",
    "    shear_range=0.2,\n",
    "    zoom_range=0.2,\n",
    "    horizontal_flip=True,\n",
    "    fill_mode='nearest'\n",
    ")\n",
    "\n",
    "validation_datagen = ImageDataGenerator(rescale=1./255)\n",
    "\n",
    "\n",
    "train_generator = train_datagen.flow_from_directory(\n",
    "    'images/train', \n",
    "    target_size=(150, 150),\n",
    "    batch_size=32,\n",
    "    class_mode='categorical'\n",
    ")\n",
    "\n",
    "validation_generator = validation_datagen.flow_from_directory(\n",
    "    'images/test',  \n",
    "    target_size=(150, 150),\n",
    "    batch_size=32,\n",
    "    class_mode='categorical'\n",
    ")\n",
    "\n",
    "history = model.fit(\n",
    "    train_generator,\n",
    "    steps_per_epoch=100,\n",
    "    epochs=30,\n",
    "    validation_data=validation_generator,\n",
    "    validation_steps=50\n",
    ")\n"
   ]
  },
  {
   "cell_type": "code",
   "execution_count": null,
   "metadata": {},
   "outputs": [],
   "source": [
    "# Membuat plot history training\n",
    "import matplotlib.pyplot as plt\n",
    "\n",
    "# Plot akurasi training dan validasi\n",
    "plt.figure(figsize=(12,4))\n",
    "\n",
    "plt.subplot(1,2,1)\n",
    "plt.plot(history.history['accuracy'], label='Training Accuracy')\n",
    "plt.plot(history.history['val_accuracy'], label='Validation Accuracy')\n",
    "plt.title('Model Accuracy')\n",
    "plt.xlabel('Epoch')\n",
    "plt.ylabel('Accuracy')\n",
    "plt.legend()\n",
    "\n",
    "# Plot loss training dan validasi\n",
    "plt.subplot(1,2,2)\n",
    "plt.plot(history.history['loss'], label='Training Loss')\n",
    "plt.plot(history.history['val_loss'], label='Validation Loss')\n",
    "plt.title('Model Loss')\n",
    "plt.xlabel('Epoch')\n",
    "plt.ylabel('Loss')\n",
    "plt.legend()\n",
    "\n",
    "plt.tight_layout()\n",
    "plt.show()\n"
   ]
  },
  {
   "cell_type": "code",
   "execution_count": null,
   "metadata": {},
   "outputs": [],
   "source": [
    "train_datagen"
   ]
  },
  {
   "cell_type": "code",
   "execution_count": null,
   "metadata": {},
   "outputs": [],
   "source": [
    "model.save('image_classification_model.h5')"
   ]
  },
  {
   "cell_type": "code",
   "execution_count": null,
   "metadata": {},
   "outputs": [],
   "source": [
    "architecure_files = glob.glob(\"images/architecure/*jpg\")\n",
    "art_culture_files = glob.glob(\"images/art and culture/*jpg\")\n",
    "food_drinks_files = glob.glob(\"images/food and d rinks/*jpg\")\n",
    "travel_adventure_files = glob.glob(\"images/travel and  adventure/*jpg\")"
   ]
  },
  {
   "cell_type": "code",
   "execution_count": null,
   "metadata": {},
   "outputs": [],
   "source": [
    "from tensorflow.keras.models import load_model\n",
    "from tensorflow.keras.preprocessing import image\n",
    "import numpy as np\n",
    "\n",
    "# Load model\n",
    "model = load_model('image_classification_model.h5')\n",
    "class_names = [\"architecure\", \"art_culture\", \"food_drinks\", \"travel_adventure\"]\n",
    "def predict_image(img_path):\n",
    "    img = image.load_img(img_path, target_size=(150, 150))\n",
    "    img_array = image.img_to_array(img)\n",
    "    img_array = np.expand_dims(img_array, axis=0)\n",
    "    img_array /= 255.\n",
    "    predictions = model.predict(img_array)\n",
    "    predicted_class = class_names[np.argmax(predictions[0])]\n",
    "    \n",
    "    return predicted_class, predictions[0]\n",
    "\n",
    "img_path = 'example.jpg' \n",
    "predicted_class, probabilities = predict_image(img_path)\n",
    "\n",
    "print(f'Predicted class: {predicted_class}')\n",
    "print(f'Class probability: {probabilities}')\n",
    "\n"
   ]
  },
  {
   "cell_type": "code",
   "execution_count": null,
   "metadata": {},
   "outputs": [],
   "source": []
  }
 ],
 "metadata": {
  "kernelspec": {
   "display_name": "palm_code",
   "language": "python",
   "name": "python3"
  },
  "language_info": {
   "codemirror_mode": {
    "name": "ipython",
    "version": 3
   },
   "file_extension": ".py",
   "mimetype": "text/x-python",
   "name": "python",
   "nbconvert_exporter": "python",
   "pygments_lexer": "ipython3",
   "version": "3.10.14"
  }
 },
 "nbformat": 4,
 "nbformat_minor": 2
}
